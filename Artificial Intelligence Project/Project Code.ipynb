{
 "cells": [
  {
   "cell_type": "markdown",
   "metadata": {},
   "source": [
    "Student Name : Rami Soussi  \n",
    "\n",
    "Student Number : 0583600 "
   ]
  },
  {
   "cell_type": "code",
   "execution_count": 1,
   "metadata": {},
   "outputs": [],
   "source": [
    "import pandas as pd\n",
    "import numpy as np\n",
    "import matplotlib.pyplot as plt\n",
    "from numpy import linalg\n",
    "import seaborn as sns\n",
    "from sklearn.feature_selection import mutual_info_regression"
   ]
  },
  {
   "cell_type": "code",
   "execution_count": 2,
   "metadata": {},
   "outputs": [
    {
     "data": {
      "text/html": [
       "<div>\n",
       "<style scoped>\n",
       "    .dataframe tbody tr th:only-of-type {\n",
       "        vertical-align: middle;\n",
       "    }\n",
       "\n",
       "    .dataframe tbody tr th {\n",
       "        vertical-align: top;\n",
       "    }\n",
       "\n",
       "    .dataframe thead th {\n",
       "        text-align: right;\n",
       "    }\n",
       "</style>\n",
       "<table border=\"1\" class=\"dataframe\">\n",
       "  <thead>\n",
       "    <tr style=\"text-align: right;\">\n",
       "      <th></th>\n",
       "      <th>Unnamed: 0</th>\n",
       "      <th>Name</th>\n",
       "      <th>Location</th>\n",
       "      <th>Year</th>\n",
       "      <th>Kilometers_Driven</th>\n",
       "      <th>Fuel_Type</th>\n",
       "      <th>Transmission</th>\n",
       "      <th>Owner_Type</th>\n",
       "      <th>Mileage</th>\n",
       "      <th>Engine</th>\n",
       "      <th>Power</th>\n",
       "      <th>Seats</th>\n",
       "      <th>New_Price</th>\n",
       "      <th>Price</th>\n",
       "    </tr>\n",
       "  </thead>\n",
       "  <tbody>\n",
       "    <tr>\n",
       "      <th>0</th>\n",
       "      <td>0</td>\n",
       "      <td>Maruti Wagon R LXI CNG</td>\n",
       "      <td>Mumbai</td>\n",
       "      <td>2010</td>\n",
       "      <td>72000</td>\n",
       "      <td>CNG</td>\n",
       "      <td>Manual</td>\n",
       "      <td>First</td>\n",
       "      <td>26.6 km/kg</td>\n",
       "      <td>998 CC</td>\n",
       "      <td>58.16 bhp</td>\n",
       "      <td>5.0</td>\n",
       "      <td>NaN</td>\n",
       "      <td>1.75</td>\n",
       "    </tr>\n",
       "    <tr>\n",
       "      <th>1</th>\n",
       "      <td>1</td>\n",
       "      <td>Hyundai Creta 1.6 CRDi SX Option</td>\n",
       "      <td>Pune</td>\n",
       "      <td>2015</td>\n",
       "      <td>41000</td>\n",
       "      <td>Diesel</td>\n",
       "      <td>Manual</td>\n",
       "      <td>First</td>\n",
       "      <td>19.67 kmpl</td>\n",
       "      <td>1582 CC</td>\n",
       "      <td>126.2 bhp</td>\n",
       "      <td>5.0</td>\n",
       "      <td>NaN</td>\n",
       "      <td>12.50</td>\n",
       "    </tr>\n",
       "    <tr>\n",
       "      <th>2</th>\n",
       "      <td>2</td>\n",
       "      <td>Honda Jazz V</td>\n",
       "      <td>Chennai</td>\n",
       "      <td>2011</td>\n",
       "      <td>46000</td>\n",
       "      <td>Petrol</td>\n",
       "      <td>Manual</td>\n",
       "      <td>First</td>\n",
       "      <td>18.2 kmpl</td>\n",
       "      <td>1199 CC</td>\n",
       "      <td>88.7 bhp</td>\n",
       "      <td>5.0</td>\n",
       "      <td>8.61 Lakh</td>\n",
       "      <td>4.50</td>\n",
       "    </tr>\n",
       "    <tr>\n",
       "      <th>3</th>\n",
       "      <td>3</td>\n",
       "      <td>Maruti Ertiga VDI</td>\n",
       "      <td>Chennai</td>\n",
       "      <td>2012</td>\n",
       "      <td>87000</td>\n",
       "      <td>Diesel</td>\n",
       "      <td>Manual</td>\n",
       "      <td>First</td>\n",
       "      <td>20.77 kmpl</td>\n",
       "      <td>1248 CC</td>\n",
       "      <td>88.76 bhp</td>\n",
       "      <td>7.0</td>\n",
       "      <td>NaN</td>\n",
       "      <td>6.00</td>\n",
       "    </tr>\n",
       "    <tr>\n",
       "      <th>4</th>\n",
       "      <td>4</td>\n",
       "      <td>Audi A4 New 2.0 TDI Multitronic</td>\n",
       "      <td>Coimbatore</td>\n",
       "      <td>2013</td>\n",
       "      <td>40670</td>\n",
       "      <td>Diesel</td>\n",
       "      <td>Automatic</td>\n",
       "      <td>Second</td>\n",
       "      <td>15.2 kmpl</td>\n",
       "      <td>1968 CC</td>\n",
       "      <td>140.8 bhp</td>\n",
       "      <td>5.0</td>\n",
       "      <td>NaN</td>\n",
       "      <td>17.74</td>\n",
       "    </tr>\n",
       "    <tr>\n",
       "      <th>...</th>\n",
       "      <td>...</td>\n",
       "      <td>...</td>\n",
       "      <td>...</td>\n",
       "      <td>...</td>\n",
       "      <td>...</td>\n",
       "      <td>...</td>\n",
       "      <td>...</td>\n",
       "      <td>...</td>\n",
       "      <td>...</td>\n",
       "      <td>...</td>\n",
       "      <td>...</td>\n",
       "      <td>...</td>\n",
       "      <td>...</td>\n",
       "      <td>...</td>\n",
       "    </tr>\n",
       "    <tr>\n",
       "      <th>6014</th>\n",
       "      <td>6014</td>\n",
       "      <td>Maruti Swift VDI</td>\n",
       "      <td>Delhi</td>\n",
       "      <td>2014</td>\n",
       "      <td>27365</td>\n",
       "      <td>Diesel</td>\n",
       "      <td>Manual</td>\n",
       "      <td>First</td>\n",
       "      <td>28.4 kmpl</td>\n",
       "      <td>1248 CC</td>\n",
       "      <td>74 bhp</td>\n",
       "      <td>5.0</td>\n",
       "      <td>7.88 Lakh</td>\n",
       "      <td>4.75</td>\n",
       "    </tr>\n",
       "    <tr>\n",
       "      <th>6015</th>\n",
       "      <td>6015</td>\n",
       "      <td>Hyundai Xcent 1.1 CRDi S</td>\n",
       "      <td>Jaipur</td>\n",
       "      <td>2015</td>\n",
       "      <td>100000</td>\n",
       "      <td>Diesel</td>\n",
       "      <td>Manual</td>\n",
       "      <td>First</td>\n",
       "      <td>24.4 kmpl</td>\n",
       "      <td>1120 CC</td>\n",
       "      <td>71 bhp</td>\n",
       "      <td>5.0</td>\n",
       "      <td>NaN</td>\n",
       "      <td>4.00</td>\n",
       "    </tr>\n",
       "    <tr>\n",
       "      <th>6016</th>\n",
       "      <td>6016</td>\n",
       "      <td>Mahindra Xylo D4 BSIV</td>\n",
       "      <td>Jaipur</td>\n",
       "      <td>2012</td>\n",
       "      <td>55000</td>\n",
       "      <td>Diesel</td>\n",
       "      <td>Manual</td>\n",
       "      <td>Second</td>\n",
       "      <td>14.0 kmpl</td>\n",
       "      <td>2498 CC</td>\n",
       "      <td>112 bhp</td>\n",
       "      <td>8.0</td>\n",
       "      <td>NaN</td>\n",
       "      <td>2.90</td>\n",
       "    </tr>\n",
       "    <tr>\n",
       "      <th>6017</th>\n",
       "      <td>6017</td>\n",
       "      <td>Maruti Wagon R VXI</td>\n",
       "      <td>Kolkata</td>\n",
       "      <td>2013</td>\n",
       "      <td>46000</td>\n",
       "      <td>Petrol</td>\n",
       "      <td>Manual</td>\n",
       "      <td>First</td>\n",
       "      <td>18.9 kmpl</td>\n",
       "      <td>998 CC</td>\n",
       "      <td>67.1 bhp</td>\n",
       "      <td>5.0</td>\n",
       "      <td>NaN</td>\n",
       "      <td>2.65</td>\n",
       "    </tr>\n",
       "    <tr>\n",
       "      <th>6018</th>\n",
       "      <td>6018</td>\n",
       "      <td>Chevrolet Beat Diesel</td>\n",
       "      <td>Hyderabad</td>\n",
       "      <td>2011</td>\n",
       "      <td>47000</td>\n",
       "      <td>Diesel</td>\n",
       "      <td>Manual</td>\n",
       "      <td>First</td>\n",
       "      <td>25.44 kmpl</td>\n",
       "      <td>936 CC</td>\n",
       "      <td>57.6 bhp</td>\n",
       "      <td>5.0</td>\n",
       "      <td>NaN</td>\n",
       "      <td>2.50</td>\n",
       "    </tr>\n",
       "  </tbody>\n",
       "</table>\n",
       "<p>6019 rows × 14 columns</p>\n",
       "</div>"
      ],
      "text/plain": [
       "      Unnamed: 0                              Name    Location  Year  \\\n",
       "0              0            Maruti Wagon R LXI CNG      Mumbai  2010   \n",
       "1              1  Hyundai Creta 1.6 CRDi SX Option        Pune  2015   \n",
       "2              2                      Honda Jazz V     Chennai  2011   \n",
       "3              3                 Maruti Ertiga VDI     Chennai  2012   \n",
       "4              4   Audi A4 New 2.0 TDI Multitronic  Coimbatore  2013   \n",
       "...          ...                               ...         ...   ...   \n",
       "6014        6014                  Maruti Swift VDI       Delhi  2014   \n",
       "6015        6015          Hyundai Xcent 1.1 CRDi S      Jaipur  2015   \n",
       "6016        6016             Mahindra Xylo D4 BSIV      Jaipur  2012   \n",
       "6017        6017                Maruti Wagon R VXI     Kolkata  2013   \n",
       "6018        6018             Chevrolet Beat Diesel   Hyderabad  2011   \n",
       "\n",
       "      Kilometers_Driven Fuel_Type Transmission Owner_Type     Mileage  \\\n",
       "0                 72000       CNG       Manual      First  26.6 km/kg   \n",
       "1                 41000    Diesel       Manual      First  19.67 kmpl   \n",
       "2                 46000    Petrol       Manual      First   18.2 kmpl   \n",
       "3                 87000    Diesel       Manual      First  20.77 kmpl   \n",
       "4                 40670    Diesel    Automatic     Second   15.2 kmpl   \n",
       "...                 ...       ...          ...        ...         ...   \n",
       "6014              27365    Diesel       Manual      First   28.4 kmpl   \n",
       "6015             100000    Diesel       Manual      First   24.4 kmpl   \n",
       "6016              55000    Diesel       Manual     Second   14.0 kmpl   \n",
       "6017              46000    Petrol       Manual      First   18.9 kmpl   \n",
       "6018              47000    Diesel       Manual      First  25.44 kmpl   \n",
       "\n",
       "       Engine      Power  Seats  New_Price  Price  \n",
       "0      998 CC  58.16 bhp    5.0        NaN   1.75  \n",
       "1     1582 CC  126.2 bhp    5.0        NaN  12.50  \n",
       "2     1199 CC   88.7 bhp    5.0  8.61 Lakh   4.50  \n",
       "3     1248 CC  88.76 bhp    7.0        NaN   6.00  \n",
       "4     1968 CC  140.8 bhp    5.0        NaN  17.74  \n",
       "...       ...        ...    ...        ...    ...  \n",
       "6014  1248 CC     74 bhp    5.0  7.88 Lakh   4.75  \n",
       "6015  1120 CC     71 bhp    5.0        NaN   4.00  \n",
       "6016  2498 CC    112 bhp    8.0        NaN   2.90  \n",
       "6017   998 CC   67.1 bhp    5.0        NaN   2.65  \n",
       "6018   936 CC   57.6 bhp    5.0        NaN   2.50  \n",
       "\n",
       "[6019 rows x 14 columns]"
      ]
     },
     "execution_count": 2,
     "metadata": {},
     "output_type": "execute_result"
    }
   ],
   "source": [
    "data = pd.read_csv('train-data.csv')\n",
    "data"
   ]
  },
  {
   "cell_type": "code",
   "execution_count": 3,
   "metadata": {},
   "outputs": [],
   "source": [
    "def change_string_to_number(ch):\n",
    "    ch1 = ''\n",
    "    if str(ch) == 'nan' : return(0) \n",
    "    if str(ch) == 'null bhp' :  return(0)\n",
    "    for i in str(ch) :\n",
    "        if i in ['1','2','3','4','5','6','7','8','9','0','.'] : ch1 = ch1 + i     \n",
    "    return(float(ch1) )"
   ]
  },
  {
   "cell_type": "code",
   "execution_count": 4,
   "metadata": {},
   "outputs": [
    {
     "name": "stderr",
     "output_type": "stream",
     "text": [
      "C:\\Users\\HP\\anaconda3\\lib\\site-packages\\ipykernel_launcher.py:3: SettingWithCopyWarning: \n",
      "A value is trying to be set on a copy of a slice from a DataFrame\n",
      "\n",
      "See the caveats in the documentation: https://pandas.pydata.org/pandas-docs/stable/user_guide/indexing.html#returning-a-view-versus-a-copy\n",
      "  This is separate from the ipykernel package so we can avoid doing imports until\n",
      "C:\\Users\\HP\\anaconda3\\lib\\site-packages\\ipykernel_launcher.py:4: SettingWithCopyWarning: \n",
      "A value is trying to be set on a copy of a slice from a DataFrame\n",
      "\n",
      "See the caveats in the documentation: https://pandas.pydata.org/pandas-docs/stable/user_guide/indexing.html#returning-a-view-versus-a-copy\n",
      "  after removing the cwd from sys.path.\n",
      "C:\\Users\\HP\\anaconda3\\lib\\site-packages\\ipykernel_launcher.py:5: SettingWithCopyWarning: \n",
      "A value is trying to be set on a copy of a slice from a DataFrame\n",
      "\n",
      "See the caveats in the documentation: https://pandas.pydata.org/pandas-docs/stable/user_guide/indexing.html#returning-a-view-versus-a-copy\n",
      "  \"\"\"\n"
     ]
    }
   ],
   "source": [
    "n = data.shape[0]\n",
    "for i in range(n) :\n",
    "    data['Mileage'][i] = change_string_to_number(data['Mileage'][i])\n",
    "    data['Engine'][i] = change_string_to_number(data['Engine'][i])\n",
    "    data['Power'][i] = change_string_to_number(data['Power'][i])"
   ]
  },
  {
   "cell_type": "code",
   "execution_count": 5,
   "metadata": {},
   "outputs": [],
   "source": [
    "original_data = data.copy()"
   ]
  },
  {
   "cell_type": "code",
   "execution_count": 6,
   "metadata": {},
   "outputs": [],
   "source": [
    "def normalisation(X):\n",
    "    maxi , mini = max(X) , min(X)\n",
    "    return (X - mini) / (maxi - mini)"
   ]
  },
  {
   "cell_type": "code",
   "execution_count": 7,
   "metadata": {},
   "outputs": [],
   "source": [
    "data['Year']= normalisation(data['Year'])\n",
    "data['Kilometers_Driven']= normalisation(data['Kilometers_Driven'])\n",
    "data['Power']= normalisation(data['Power'])\n",
    "data['Engine']= normalisation(data['Engine'])\n",
    "data['Mileage']= normalisation(data['Mileage'])"
   ]
  },
  {
   "cell_type": "code",
   "execution_count": 8,
   "metadata": {},
   "outputs": [],
   "source": [
    "y = data['Price']"
   ]
  },
  {
   "cell_type": "code",
   "execution_count": 9,
   "metadata": {},
   "outputs": [
    {
     "name": "stdout",
     "output_type": "stream",
     "text": [
      "count_Location :  11 \n",
      "count_Name :  1876 \n",
      "Count_Fuel_type :  5 \n",
      "Count_Owner_type :  4 \n",
      "Count_Transmission :  2\n"
     ]
    }
   ],
   "source": [
    "count_Location = len(set(data['Location']))\n",
    "count_Name = len(set(data['Name']))\n",
    "Count_Fuel_type = len(set(data['Fuel_Type']))\n",
    "Count_Owner_type = len(set(data['Owner_Type']))\n",
    "Count_Transmission = len(set(data['Transmission']))\n",
    "\n",
    "print('count_Location : ',count_Location,'\\ncount_Name : ',count_Name,'\\nCount_Fuel_type : ',Count_Fuel_type,\n",
    "      '\\nCount_Owner_type : ',Count_Owner_type,'\\nCount_Transmission : ',Count_Transmission)"
   ]
  },
  {
   "cell_type": "code",
   "execution_count": 10,
   "metadata": {},
   "outputs": [
    {
     "name": "stdout",
     "output_type": "stream",
     "text": [
      "Fuel_type_values :  {'Petrol', 'CNG', 'Diesel', 'Electric', 'LPG'} \n",
      "Owner_type_values :  {'Second', 'Third', 'First', 'Fourth & Above'} \n",
      "Transmission_values :  {'Manual', 'Automatic'}\n"
     ]
    }
   ],
   "source": [
    "Fuel_type_values = set(data['Fuel_Type'])\n",
    "Owner_type_values = set(data['Owner_Type'])\n",
    "Transmission_values = set(data['Transmission'])\n",
    "\n",
    "print('Fuel_type_values : ',Fuel_type_values,'\\nOwner_type_values : ',Owner_type_values,'\\nTransmission_values : ',Transmission_values)"
   ]
  },
  {
   "cell_type": "code",
   "execution_count": 11,
   "metadata": {},
   "outputs": [
    {
     "data": {
      "text/plain": [
       "Transmission\n",
       "Manual        5.332703\n",
       "Automatic    19.843971\n",
       "Name: Price, dtype: float64"
      ]
     },
     "execution_count": 11,
     "metadata": {},
     "output_type": "execute_result"
    }
   ],
   "source": [
    "data.groupby('Transmission').mean()['Price'].sort_values()"
   ]
  },
  {
   "cell_type": "code",
   "execution_count": 12,
   "metadata": {},
   "outputs": [
    {
     "data": {
      "text/plain": [
       "Fuel_Type\n",
       "LPG          2.487000\n",
       "CNG          3.516786\n",
       "Petrol       5.701100\n",
       "Diesel      12.840605\n",
       "Electric    12.875000\n",
       "Name: Price, dtype: float64"
      ]
     },
     "execution_count": 12,
     "metadata": {},
     "output_type": "execute_result"
    }
   ],
   "source": [
    "data.groupby('Fuel_Type').mean()['Price'].sort_values()"
   ]
  },
  {
   "cell_type": "code",
   "execution_count": 13,
   "metadata": {},
   "outputs": [
    {
     "data": {
      "text/plain": [
       "Owner_Type\n",
       "Fourth & Above    3.280000\n",
       "Third             5.007257\n",
       "Second            7.599886\n",
       "First             9.962445\n",
       "Name: Price, dtype: float64"
      ]
     },
     "execution_count": 13,
     "metadata": {},
     "output_type": "execute_result"
    }
   ],
   "source": [
    "data.groupby('Owner_Type').mean()['Price'].sort_values()"
   ]
  },
  {
   "cell_type": "code",
   "execution_count": 14,
   "metadata": {},
   "outputs": [],
   "source": [
    "data.replace({\"LPG\":1,\"CNG\":2,\"Petrol\":3,\"Diesel\":4,\"Electric\":5},inplace=True)\n",
    "data.replace({\"First\":1,\"Second\":2,\"Third\":3,\"Fourth & Above\":4},inplace=True)\n",
    "data.replace({\"Manual\":0,\"Automatic\":1},inplace=True)"
   ]
  },
  {
   "cell_type": "code",
   "execution_count": 15,
   "metadata": {},
   "outputs": [],
   "source": [
    "data['Fuel_Type']= normalisation(data['Fuel_Type'])\n",
    "data['Owner_Type']= normalisation(data['Owner_Type'])"
   ]
  },
  {
   "cell_type": "code",
   "execution_count": 16,
   "metadata": {},
   "outputs": [],
   "source": [
    "data = data.drop(columns=['Unnamed: 0','Price','New_Price','Name','Location'])"
   ]
  },
  {
   "cell_type": "code",
   "execution_count": 17,
   "metadata": {},
   "outputs": [
    {
     "name": "stdout",
     "output_type": "stream",
     "text": [
      "5977\n"
     ]
    }
   ],
   "source": [
    "print(np.sum(data['Seats'].value_counts()))"
   ]
  },
  {
   "cell_type": "markdown",
   "metadata": {},
   "source": [
    "We remark that there are many Nan values in 'Seats', we are going to replace them by the most redundant value."
   ]
  },
  {
   "cell_type": "code",
   "execution_count": 18,
   "metadata": {},
   "outputs": [
    {
     "data": {
      "text/html": [
       "<div>\n",
       "<style scoped>\n",
       "    .dataframe tbody tr th:only-of-type {\n",
       "        vertical-align: middle;\n",
       "    }\n",
       "\n",
       "    .dataframe tbody tr th {\n",
       "        vertical-align: top;\n",
       "    }\n",
       "\n",
       "    .dataframe thead th {\n",
       "        text-align: right;\n",
       "    }\n",
       "</style>\n",
       "<table border=\"1\" class=\"dataframe\">\n",
       "  <thead>\n",
       "    <tr style=\"text-align: right;\">\n",
       "      <th></th>\n",
       "      <th>Year</th>\n",
       "      <th>Kilometers_Driven</th>\n",
       "      <th>Fuel_Type</th>\n",
       "      <th>Transmission</th>\n",
       "      <th>Owner_Type</th>\n",
       "      <th>Mileage</th>\n",
       "      <th>Engine</th>\n",
       "      <th>Power</th>\n",
       "    </tr>\n",
       "    <tr>\n",
       "      <th>Seats</th>\n",
       "      <th></th>\n",
       "      <th></th>\n",
       "      <th></th>\n",
       "      <th></th>\n",
       "      <th></th>\n",
       "      <th></th>\n",
       "      <th></th>\n",
       "      <th></th>\n",
       "    </tr>\n",
       "  </thead>\n",
       "  <tbody>\n",
       "    <tr>\n",
       "      <th>0.0</th>\n",
       "      <td>1</td>\n",
       "      <td>1</td>\n",
       "      <td>1</td>\n",
       "      <td>1</td>\n",
       "      <td>1</td>\n",
       "      <td>1</td>\n",
       "      <td>1</td>\n",
       "      <td>1</td>\n",
       "    </tr>\n",
       "    <tr>\n",
       "      <th>2.0</th>\n",
       "      <td>16</td>\n",
       "      <td>16</td>\n",
       "      <td>16</td>\n",
       "      <td>16</td>\n",
       "      <td>16</td>\n",
       "      <td>16</td>\n",
       "      <td>16</td>\n",
       "      <td>16</td>\n",
       "    </tr>\n",
       "    <tr>\n",
       "      <th>4.0</th>\n",
       "      <td>99</td>\n",
       "      <td>99</td>\n",
       "      <td>99</td>\n",
       "      <td>99</td>\n",
       "      <td>99</td>\n",
       "      <td>99</td>\n",
       "      <td>99</td>\n",
       "      <td>99</td>\n",
       "    </tr>\n",
       "    <tr>\n",
       "      <th>5.0</th>\n",
       "      <td>5014</td>\n",
       "      <td>5014</td>\n",
       "      <td>5014</td>\n",
       "      <td>5014</td>\n",
       "      <td>5014</td>\n",
       "      <td>5014</td>\n",
       "      <td>5014</td>\n",
       "      <td>5014</td>\n",
       "    </tr>\n",
       "    <tr>\n",
       "      <th>6.0</th>\n",
       "      <td>31</td>\n",
       "      <td>31</td>\n",
       "      <td>31</td>\n",
       "      <td>31</td>\n",
       "      <td>31</td>\n",
       "      <td>31</td>\n",
       "      <td>31</td>\n",
       "      <td>31</td>\n",
       "    </tr>\n",
       "    <tr>\n",
       "      <th>7.0</th>\n",
       "      <td>674</td>\n",
       "      <td>674</td>\n",
       "      <td>674</td>\n",
       "      <td>674</td>\n",
       "      <td>674</td>\n",
       "      <td>674</td>\n",
       "      <td>674</td>\n",
       "      <td>674</td>\n",
       "    </tr>\n",
       "    <tr>\n",
       "      <th>8.0</th>\n",
       "      <td>134</td>\n",
       "      <td>134</td>\n",
       "      <td>134</td>\n",
       "      <td>134</td>\n",
       "      <td>134</td>\n",
       "      <td>134</td>\n",
       "      <td>134</td>\n",
       "      <td>134</td>\n",
       "    </tr>\n",
       "    <tr>\n",
       "      <th>9.0</th>\n",
       "      <td>3</td>\n",
       "      <td>3</td>\n",
       "      <td>3</td>\n",
       "      <td>3</td>\n",
       "      <td>3</td>\n",
       "      <td>3</td>\n",
       "      <td>3</td>\n",
       "      <td>3</td>\n",
       "    </tr>\n",
       "    <tr>\n",
       "      <th>10.0</th>\n",
       "      <td>5</td>\n",
       "      <td>5</td>\n",
       "      <td>5</td>\n",
       "      <td>5</td>\n",
       "      <td>5</td>\n",
       "      <td>5</td>\n",
       "      <td>5</td>\n",
       "      <td>5</td>\n",
       "    </tr>\n",
       "  </tbody>\n",
       "</table>\n",
       "</div>"
      ],
      "text/plain": [
       "       Year  Kilometers_Driven  Fuel_Type  Transmission  Owner_Type  Mileage  \\\n",
       "Seats                                                                          \n",
       "0.0       1                  1          1             1           1        1   \n",
       "2.0      16                 16         16            16          16       16   \n",
       "4.0      99                 99         99            99          99       99   \n",
       "5.0    5014               5014       5014          5014        5014     5014   \n",
       "6.0      31                 31         31            31          31       31   \n",
       "7.0     674                674        674           674         674      674   \n",
       "8.0     134                134        134           134         134      134   \n",
       "9.0       3                  3          3             3           3        3   \n",
       "10.0      5                  5          5             5           5        5   \n",
       "\n",
       "       Engine  Power  \n",
       "Seats                 \n",
       "0.0         1      1  \n",
       "2.0        16     16  \n",
       "4.0        99     99  \n",
       "5.0      5014   5014  \n",
       "6.0        31     31  \n",
       "7.0       674    674  \n",
       "8.0       134    134  \n",
       "9.0         3      3  \n",
       "10.0        5      5  "
      ]
     },
     "execution_count": 18,
     "metadata": {},
     "output_type": "execute_result"
    }
   ],
   "source": [
    "data.groupby('Seats').count()"
   ]
  },
  {
   "cell_type": "code",
   "execution_count": 19,
   "metadata": {},
   "outputs": [
    {
     "name": "stderr",
     "output_type": "stream",
     "text": [
      "C:\\Users\\HP\\anaconda3\\lib\\site-packages\\ipykernel_launcher.py:3: SettingWithCopyWarning: \n",
      "A value is trying to be set on a copy of a slice from a DataFrame\n",
      "\n",
      "See the caveats in the documentation: https://pandas.pydata.org/pandas-docs/stable/user_guide/indexing.html#returning-a-view-versus-a-copy\n",
      "  This is separate from the ipykernel package so we can avoid doing imports until\n"
     ]
    }
   ],
   "source": [
    "s = []\n",
    "for i in range(len(data['Seats'])):\n",
    "    if data['Seats'][i] not in  [0.0,1.0,2.0,3.0,4.0,5.0,6.0,7.0,8.0,9.0,10.0,0] : data['Seats'][i] = 5"
   ]
  },
  {
   "cell_type": "code",
   "execution_count": 20,
   "metadata": {},
   "outputs": [
    {
     "name": "stdout",
     "output_type": "stream",
     "text": [
      "6019\n"
     ]
    }
   ],
   "source": [
    "print(np.sum(data['Seats'].value_counts()))"
   ]
  },
  {
   "cell_type": "code",
   "execution_count": 21,
   "metadata": {},
   "outputs": [
    {
     "data": {
      "text/html": [
       "<div>\n",
       "<style scoped>\n",
       "    .dataframe tbody tr th:only-of-type {\n",
       "        vertical-align: middle;\n",
       "    }\n",
       "\n",
       "    .dataframe tbody tr th {\n",
       "        vertical-align: top;\n",
       "    }\n",
       "\n",
       "    .dataframe thead th {\n",
       "        text-align: right;\n",
       "    }\n",
       "</style>\n",
       "<table border=\"1\" class=\"dataframe\">\n",
       "  <thead>\n",
       "    <tr style=\"text-align: right;\">\n",
       "      <th></th>\n",
       "      <th>Year</th>\n",
       "      <th>Kilometers_Driven</th>\n",
       "      <th>Fuel_Type</th>\n",
       "      <th>Transmission</th>\n",
       "      <th>Owner_Type</th>\n",
       "      <th>Mileage</th>\n",
       "      <th>Engine</th>\n",
       "      <th>Power</th>\n",
       "      <th>Seats</th>\n",
       "    </tr>\n",
       "  </thead>\n",
       "  <tbody>\n",
       "    <tr>\n",
       "      <th>0</th>\n",
       "      <td>0.571429</td>\n",
       "      <td>0.011051</td>\n",
       "      <td>0.25</td>\n",
       "      <td>0</td>\n",
       "      <td>0.000000</td>\n",
       "      <td>0.793083</td>\n",
       "      <td>0.166389</td>\n",
       "      <td>0.103857</td>\n",
       "      <td>0.5</td>\n",
       "    </tr>\n",
       "    <tr>\n",
       "      <th>1</th>\n",
       "      <td>0.809524</td>\n",
       "      <td>0.006282</td>\n",
       "      <td>0.75</td>\n",
       "      <td>0</td>\n",
       "      <td>0.000000</td>\n",
       "      <td>0.586464</td>\n",
       "      <td>0.263755</td>\n",
       "      <td>0.225357</td>\n",
       "      <td>0.5</td>\n",
       "    </tr>\n",
       "    <tr>\n",
       "      <th>2</th>\n",
       "      <td>0.619048</td>\n",
       "      <td>0.007051</td>\n",
       "      <td>0.50</td>\n",
       "      <td>0</td>\n",
       "      <td>0.000000</td>\n",
       "      <td>0.542636</td>\n",
       "      <td>0.199900</td>\n",
       "      <td>0.158393</td>\n",
       "      <td>0.5</td>\n",
       "    </tr>\n",
       "    <tr>\n",
       "      <th>3</th>\n",
       "      <td>0.666667</td>\n",
       "      <td>0.013359</td>\n",
       "      <td>0.75</td>\n",
       "      <td>0</td>\n",
       "      <td>0.000000</td>\n",
       "      <td>0.619261</td>\n",
       "      <td>0.208069</td>\n",
       "      <td>0.158500</td>\n",
       "      <td>0.7</td>\n",
       "    </tr>\n",
       "    <tr>\n",
       "      <th>4</th>\n",
       "      <td>0.714286</td>\n",
       "      <td>0.006231</td>\n",
       "      <td>0.75</td>\n",
       "      <td>1</td>\n",
       "      <td>0.333333</td>\n",
       "      <td>0.453190</td>\n",
       "      <td>0.328109</td>\n",
       "      <td>0.251429</td>\n",
       "      <td>0.5</td>\n",
       "    </tr>\n",
       "    <tr>\n",
       "      <th>...</th>\n",
       "      <td>...</td>\n",
       "      <td>...</td>\n",
       "      <td>...</td>\n",
       "      <td>...</td>\n",
       "      <td>...</td>\n",
       "      <td>...</td>\n",
       "      <td>...</td>\n",
       "      <td>...</td>\n",
       "      <td>...</td>\n",
       "    </tr>\n",
       "    <tr>\n",
       "      <th>6014</th>\n",
       "      <td>0.761905</td>\n",
       "      <td>0.004184</td>\n",
       "      <td>0.75</td>\n",
       "      <td>0</td>\n",
       "      <td>0.000000</td>\n",
       "      <td>0.846750</td>\n",
       "      <td>0.208069</td>\n",
       "      <td>0.132143</td>\n",
       "      <td>0.5</td>\n",
       "    </tr>\n",
       "    <tr>\n",
       "      <th>6015</th>\n",
       "      <td>0.809524</td>\n",
       "      <td>0.015359</td>\n",
       "      <td>0.75</td>\n",
       "      <td>0</td>\n",
       "      <td>0.000000</td>\n",
       "      <td>0.727490</td>\n",
       "      <td>0.186729</td>\n",
       "      <td>0.126786</td>\n",
       "      <td>0.5</td>\n",
       "    </tr>\n",
       "    <tr>\n",
       "      <th>6016</th>\n",
       "      <td>0.666667</td>\n",
       "      <td>0.008435</td>\n",
       "      <td>0.75</td>\n",
       "      <td>0</td>\n",
       "      <td>0.333333</td>\n",
       "      <td>0.417412</td>\n",
       "      <td>0.416472</td>\n",
       "      <td>0.200000</td>\n",
       "      <td>0.8</td>\n",
       "    </tr>\n",
       "    <tr>\n",
       "      <th>6017</th>\n",
       "      <td>0.714286</td>\n",
       "      <td>0.007051</td>\n",
       "      <td>0.50</td>\n",
       "      <td>0</td>\n",
       "      <td>0.000000</td>\n",
       "      <td>0.563506</td>\n",
       "      <td>0.166389</td>\n",
       "      <td>0.119821</td>\n",
       "      <td>0.5</td>\n",
       "    </tr>\n",
       "    <tr>\n",
       "      <th>6018</th>\n",
       "      <td>0.619048</td>\n",
       "      <td>0.007205</td>\n",
       "      <td>0.75</td>\n",
       "      <td>0</td>\n",
       "      <td>0.000000</td>\n",
       "      <td>0.758497</td>\n",
       "      <td>0.156052</td>\n",
       "      <td>0.102857</td>\n",
       "      <td>0.5</td>\n",
       "    </tr>\n",
       "  </tbody>\n",
       "</table>\n",
       "<p>6019 rows × 9 columns</p>\n",
       "</div>"
      ],
      "text/plain": [
       "          Year  Kilometers_Driven  Fuel_Type  Transmission  Owner_Type  \\\n",
       "0     0.571429           0.011051       0.25             0    0.000000   \n",
       "1     0.809524           0.006282       0.75             0    0.000000   \n",
       "2     0.619048           0.007051       0.50             0    0.000000   \n",
       "3     0.666667           0.013359       0.75             0    0.000000   \n",
       "4     0.714286           0.006231       0.75             1    0.333333   \n",
       "...        ...                ...        ...           ...         ...   \n",
       "6014  0.761905           0.004184       0.75             0    0.000000   \n",
       "6015  0.809524           0.015359       0.75             0    0.000000   \n",
       "6016  0.666667           0.008435       0.75             0    0.333333   \n",
       "6017  0.714286           0.007051       0.50             0    0.000000   \n",
       "6018  0.619048           0.007205       0.75             0    0.000000   \n",
       "\n",
       "       Mileage    Engine     Power  Seats  \n",
       "0     0.793083  0.166389  0.103857    0.5  \n",
       "1     0.586464  0.263755  0.225357    0.5  \n",
       "2     0.542636  0.199900  0.158393    0.5  \n",
       "3     0.619261  0.208069  0.158500    0.7  \n",
       "4     0.453190  0.328109  0.251429    0.5  \n",
       "...        ...       ...       ...    ...  \n",
       "6014  0.846750  0.208069  0.132143    0.5  \n",
       "6015  0.727490  0.186729  0.126786    0.5  \n",
       "6016  0.417412  0.416472  0.200000    0.8  \n",
       "6017  0.563506  0.166389  0.119821    0.5  \n",
       "6018  0.758497  0.156052  0.102857    0.5  \n",
       "\n",
       "[6019 rows x 9 columns]"
      ]
     },
     "execution_count": 21,
     "metadata": {},
     "output_type": "execute_result"
    }
   ],
   "source": [
    "data['Seats']= normalisation(data['Seats'])\n",
    "data"
   ]
  },
  {
   "cell_type": "markdown",
   "metadata": {},
   "source": [
    "# Pearson Correlation Coefficient"
   ]
  },
  {
   "cell_type": "code",
   "execution_count": 22,
   "metadata": {},
   "outputs": [],
   "source": [
    "def pearson_correlation_coeff(X,y):\n",
    "    coeff = []\n",
    "    for i in range(X.shape[1]):\n",
    "        x = X.iloc[:,i]\n",
    "        xy = x*y\n",
    "        x_std = np.std(x)\n",
    "        y_std = np.std(y)\n",
    "        xy_std = np.mean(xy) - np.mean(x)*np.mean(y)\n",
    "        correlation_coeff = xy_std/(x_std*y_std)\n",
    "        coeff.append(correlation_coeff)\n",
    "    return coeff"
   ]
  },
  {
   "cell_type": "code",
   "execution_count": 23,
   "metadata": {},
   "outputs": [
    {
     "name": "stdout",
     "output_type": "stream",
     "text": [
      "Year                 0.305327\n",
      "Kilometers_Driven   -0.011493\n",
      "Fuel_Type            0.316687\n",
      "Transmission         0.586025\n",
      "Owner_Type          -0.097557\n",
      "Mileage             -0.306191\n",
      "Engine               0.647232\n",
      "Power                0.751724\n",
      "Seats                0.052811\n",
      "Name: features_coefficients, dtype: float64\n"
     ]
    }
   ],
   "source": [
    "coefficients = pearson_correlation_coeff(data,y)\n",
    "correlation_coefficients = pd.Series(coefficients, name=\"features_coefficients\", index=data.columns)\n",
    "print(correlation_coefficients)"
   ]
  },
  {
   "cell_type": "code",
   "execution_count": 24,
   "metadata": {},
   "outputs": [
    {
     "name": "stdout",
     "output_type": "stream",
     "text": [
      "Power                0.751724\n",
      "Engine               0.647232\n",
      "Transmission         0.586025\n",
      "Fuel_Type            0.316687\n",
      "Mileage              0.306191\n",
      "Year                 0.305327\n",
      "Owner_Type           0.097557\n",
      "Seats                0.052811\n",
      "Kilometers_Driven    0.011493\n",
      "Name: features_coefficients, dtype: float64\n"
     ]
    }
   ],
   "source": [
    "print(abs(correlation_coefficients).sort_values(ascending=False))"
   ]
  },
  {
   "cell_type": "markdown",
   "metadata": {},
   "source": [
    "# Mutual Information"
   ]
  },
  {
   "cell_type": "code",
   "execution_count": 25,
   "metadata": {},
   "outputs": [],
   "source": [
    "def mutual_information(X,y):\n",
    "    Mutual_info = []\n",
    "    H_y = entropy1(y)\n",
    "    for i in range(X.shape[1]):\n",
    "        x = X.iloc[:,i]\n",
    "        H_x = entropy1(x)\n",
    "        H_xy = entropy2(x,y)\n",
    "        I_xy = (H_x + H_y - H_xy)\n",
    "        Mutual_info.append(I_xy)\n",
    "    return Mutual_info  "
   ]
  },
  {
   "cell_type": "code",
   "execution_count": 26,
   "metadata": {},
   "outputs": [],
   "source": [
    "def entropy1(x):\n",
    "    entropy = 0\n",
    "    l = len(x)\n",
    "    for i in set(x):\n",
    "        p = np.sum(i == np.array(x))/l\n",
    "        if p != 0 : entropy -= p*np.log2(p)\n",
    "    return entropy"
   ]
  },
  {
   "cell_type": "code",
   "execution_count": 27,
   "metadata": {},
   "outputs": [],
   "source": [
    "def entropy2(x,y):\n",
    "    entropy = 0\n",
    "    l = len(x)\n",
    "    for i in set(x):\n",
    "        x1 = i == np.array(x)\n",
    "        for j in set(y):\n",
    "            p = 0\n",
    "            y1 = j == np.array(y)\n",
    "            for k in range(len(x)):\n",
    "                if y1[k]==True and x1[k]==True : p+=1\n",
    "            p = p/l                \n",
    "            if p != 0 : entropy -= p*np.log2(p)\n",
    "    return entropy  "
   ]
  },
  {
   "cell_type": "code",
   "execution_count": 28,
   "metadata": {},
   "outputs": [],
   "source": [
    "data1 = data.head(5)\n",
    "y1 = y[0:5]"
   ]
  },
  {
   "cell_type": "code",
   "execution_count": 29,
   "metadata": {},
   "outputs": [
    {
     "data": {
      "text/plain": [
       "[2.321928094887362,\n",
       " 2.321928094887362,\n",
       " 1.3709505944546687,\n",
       " 0.7219280948873625,\n",
       " 0.7219280948873625,\n",
       " 2.321928094887362,\n",
       " 2.321928094887362,\n",
       " 2.321928094887362,\n",
       " 0.7219280948873625]"
      ]
     },
     "execution_count": 29,
     "metadata": {},
     "output_type": "execute_result"
    }
   ],
   "source": [
    "mutual_information(data1,y1)"
   ]
  },
  {
   "cell_type": "markdown",
   "metadata": {},
   "source": [
    "The entropy2 function can't run with a dataset of 6019 samples, that's why I used the built-in Sklearn function : mutual_info_regression"
   ]
  },
  {
   "cell_type": "code",
   "execution_count": 30,
   "metadata": {},
   "outputs": [
    {
     "name": "stdout",
     "output_type": "stream",
     "text": [
      "Power                0.805852\n",
      "Engine               0.640817\n",
      "Mileage              0.463999\n",
      "Year                 0.273601\n",
      "Transmission         0.236691\n",
      "Fuel_Type            0.141495\n",
      "Seats                0.082588\n",
      "Kilometers_Driven    0.069603\n",
      "Owner_Type           0.038652\n",
      "Name: MI Scores, dtype: float64\n"
     ]
    }
   ],
   "source": [
    "mutual_info_scores = mutual_info_regression(data, y)\n",
    "mi_scores = pd.Series(mutual_info_scores, name=\"MI Scores\", index=data.columns)\n",
    "print(mi_scores.sort_values(ascending=False))"
   ]
  },
  {
   "cell_type": "markdown",
   "metadata": {},
   "source": [
    "# one-way ANOVA"
   ]
  },
  {
   "cell_type": "code",
   "execution_count": 31,
   "metadata": {},
   "outputs": [],
   "source": [
    "def anova_f_oneway(X,y):\n",
    "    anova_coeff= []\n",
    "    for i in range(X.shape[1]):\n",
    "        x = X.iloc[:,i]\n",
    "        mean1 = x.mean()\n",
    "        mean2 = y.mean()\n",
    "        overall_mean = np.concatenate([y,x]).mean()\n",
    "        between_group_mean = X.shape[0]*(mean1-overall_mean)**2 + X.shape[0]*(mean2-overall_mean)**2\n",
    "        y1 = (y - mean2)**2\n",
    "        y2 = (x - mean1)**2\n",
    "        degrees_of_freedom = 2*(X.shape[0]-1)\n",
    "        within_group_mean = (np.sum(y1) + np.sum(y2))/degrees_of_freedom\n",
    "        f_ratio = between_group_mean/within_group_mean\n",
    "        anova_coeff.append(f_ratio)\n",
    "    return anova_coeff    "
   ]
  },
  {
   "cell_type": "code",
   "execution_count": 32,
   "metadata": {},
   "outputs": [
    {
     "name": "stdout",
     "output_type": "stream",
     "text": [
      "Kilometers_Driven    4312.877475\n",
      "Owner_Type           4258.880925\n",
      "Power                4142.644599\n",
      "Engine               4079.272480\n",
      "Transmission         4057.882235\n",
      "Seats                3853.212944\n",
      "Mileage              3841.792921\n",
      "Fuel_Type            3765.191204\n",
      "Year                 3679.355652\n",
      "Name: anova_f_oneway_scores, dtype: float64\n"
     ]
    }
   ],
   "source": [
    "anova_coefficients = anova_f_oneway(data,y)\n",
    "anova = pd.Series(anova_coefficients, name=\"anova_f_oneway_scores\", index=data.columns)\n",
    "print(anova.sort_values(ascending=False))"
   ]
  },
  {
   "cell_type": "markdown",
   "metadata": {},
   "source": [
    "# Recapitulation of the classifications by three methods"
   ]
  },
  {
   "cell_type": "code",
   "execution_count": 33,
   "metadata": {},
   "outputs": [],
   "source": [
    "def ranking(x):\n",
    "    y = x.copy()\n",
    "    rank = np.zeros(x.shape[0])\n",
    "    for i in range(1,x.shape[0]+1):\n",
    "        j = y.argmax()\n",
    "        rank[j] = i\n",
    "        y[j] = 0\n",
    "    rank = rank.astype(int)    \n",
    "    return(rank)"
   ]
  },
  {
   "cell_type": "code",
   "execution_count": 34,
   "metadata": {},
   "outputs": [],
   "source": [
    "classif = pd.DataFrame()\n",
    "classif['Pearson Correlation'] = ranking(abs(correlation_coefficients))\n",
    "classif['Mutual Information'] = ranking(mi_scores)\n",
    "classif['one-way ANOVA'] = ranking(anova)\n",
    "classif.index=data.columns"
   ]
  },
  {
   "cell_type": "code",
   "execution_count": 35,
   "metadata": {},
   "outputs": [
    {
     "data": {
      "text/html": [
       "<div>\n",
       "<style scoped>\n",
       "    .dataframe tbody tr th:only-of-type {\n",
       "        vertical-align: middle;\n",
       "    }\n",
       "\n",
       "    .dataframe tbody tr th {\n",
       "        vertical-align: top;\n",
       "    }\n",
       "\n",
       "    .dataframe thead th {\n",
       "        text-align: right;\n",
       "    }\n",
       "</style>\n",
       "<table border=\"1\" class=\"dataframe\">\n",
       "  <thead>\n",
       "    <tr style=\"text-align: right;\">\n",
       "      <th></th>\n",
       "      <th>Pearson Correlation</th>\n",
       "      <th>Mutual Information</th>\n",
       "      <th>one-way ANOVA</th>\n",
       "    </tr>\n",
       "  </thead>\n",
       "  <tbody>\n",
       "    <tr>\n",
       "      <th>Year</th>\n",
       "      <td>6</td>\n",
       "      <td>4</td>\n",
       "      <td>9</td>\n",
       "    </tr>\n",
       "    <tr>\n",
       "      <th>Kilometers_Driven</th>\n",
       "      <td>9</td>\n",
       "      <td>8</td>\n",
       "      <td>1</td>\n",
       "    </tr>\n",
       "    <tr>\n",
       "      <th>Fuel_Type</th>\n",
       "      <td>4</td>\n",
       "      <td>6</td>\n",
       "      <td>8</td>\n",
       "    </tr>\n",
       "    <tr>\n",
       "      <th>Transmission</th>\n",
       "      <td>3</td>\n",
       "      <td>5</td>\n",
       "      <td>5</td>\n",
       "    </tr>\n",
       "    <tr>\n",
       "      <th>Owner_Type</th>\n",
       "      <td>7</td>\n",
       "      <td>9</td>\n",
       "      <td>2</td>\n",
       "    </tr>\n",
       "    <tr>\n",
       "      <th>Mileage</th>\n",
       "      <td>5</td>\n",
       "      <td>3</td>\n",
       "      <td>7</td>\n",
       "    </tr>\n",
       "    <tr>\n",
       "      <th>Engine</th>\n",
       "      <td>2</td>\n",
       "      <td>2</td>\n",
       "      <td>4</td>\n",
       "    </tr>\n",
       "    <tr>\n",
       "      <th>Power</th>\n",
       "      <td>1</td>\n",
       "      <td>1</td>\n",
       "      <td>3</td>\n",
       "    </tr>\n",
       "    <tr>\n",
       "      <th>Seats</th>\n",
       "      <td>8</td>\n",
       "      <td>7</td>\n",
       "      <td>6</td>\n",
       "    </tr>\n",
       "  </tbody>\n",
       "</table>\n",
       "</div>"
      ],
      "text/plain": [
       "                   Pearson Correlation  Mutual Information  one-way ANOVA\n",
       "Year                                 6                   4              9\n",
       "Kilometers_Driven                    9                   8              1\n",
       "Fuel_Type                            4                   6              8\n",
       "Transmission                         3                   5              5\n",
       "Owner_Type                           7                   9              2\n",
       "Mileage                              5                   3              7\n",
       "Engine                               2                   2              4\n",
       "Power                                1                   1              3\n",
       "Seats                                8                   7              6"
      ]
     },
     "execution_count": 35,
     "metadata": {},
     "output_type": "execute_result"
    }
   ],
   "source": [
    "classif"
   ]
  },
  {
   "cell_type": "code",
   "execution_count": 36,
   "metadata": {},
   "outputs": [],
   "source": [
    "def ranking_dataframe(X):\n",
    "    summ = []\n",
    "    for i in range(X.shape[0]):\n",
    "        s = sum(classif.iloc[i])\n",
    "        summ.append(s)\n",
    "    X['importance ranking'] = summ\n",
    "    X.sort_values(by=['importance ranking'], inplace=True)\n",
    "    X['importance ranking'] = range(1,10)\n",
    "    return X  "
   ]
  },
  {
   "cell_type": "code",
   "execution_count": 37,
   "metadata": {},
   "outputs": [
    {
     "data": {
      "text/html": [
       "<div>\n",
       "<style scoped>\n",
       "    .dataframe tbody tr th:only-of-type {\n",
       "        vertical-align: middle;\n",
       "    }\n",
       "\n",
       "    .dataframe tbody tr th {\n",
       "        vertical-align: top;\n",
       "    }\n",
       "\n",
       "    .dataframe thead th {\n",
       "        text-align: right;\n",
       "    }\n",
       "</style>\n",
       "<table border=\"1\" class=\"dataframe\">\n",
       "  <thead>\n",
       "    <tr style=\"text-align: right;\">\n",
       "      <th></th>\n",
       "      <th>Pearson Correlation</th>\n",
       "      <th>Mutual Information</th>\n",
       "      <th>one-way ANOVA</th>\n",
       "      <th>importance ranking</th>\n",
       "    </tr>\n",
       "  </thead>\n",
       "  <tbody>\n",
       "    <tr>\n",
       "      <th>Power</th>\n",
       "      <td>1</td>\n",
       "      <td>1</td>\n",
       "      <td>3</td>\n",
       "      <td>1</td>\n",
       "    </tr>\n",
       "    <tr>\n",
       "      <th>Engine</th>\n",
       "      <td>2</td>\n",
       "      <td>2</td>\n",
       "      <td>4</td>\n",
       "      <td>2</td>\n",
       "    </tr>\n",
       "    <tr>\n",
       "      <th>Transmission</th>\n",
       "      <td>3</td>\n",
       "      <td>5</td>\n",
       "      <td>5</td>\n",
       "      <td>3</td>\n",
       "    </tr>\n",
       "    <tr>\n",
       "      <th>Mileage</th>\n",
       "      <td>5</td>\n",
       "      <td>3</td>\n",
       "      <td>7</td>\n",
       "      <td>4</td>\n",
       "    </tr>\n",
       "    <tr>\n",
       "      <th>Kilometers_Driven</th>\n",
       "      <td>9</td>\n",
       "      <td>8</td>\n",
       "      <td>1</td>\n",
       "      <td>5</td>\n",
       "    </tr>\n",
       "    <tr>\n",
       "      <th>Fuel_Type</th>\n",
       "      <td>4</td>\n",
       "      <td>6</td>\n",
       "      <td>8</td>\n",
       "      <td>6</td>\n",
       "    </tr>\n",
       "    <tr>\n",
       "      <th>Owner_Type</th>\n",
       "      <td>7</td>\n",
       "      <td>9</td>\n",
       "      <td>2</td>\n",
       "      <td>7</td>\n",
       "    </tr>\n",
       "    <tr>\n",
       "      <th>Year</th>\n",
       "      <td>6</td>\n",
       "      <td>4</td>\n",
       "      <td>9</td>\n",
       "      <td>8</td>\n",
       "    </tr>\n",
       "    <tr>\n",
       "      <th>Seats</th>\n",
       "      <td>8</td>\n",
       "      <td>7</td>\n",
       "      <td>6</td>\n",
       "      <td>9</td>\n",
       "    </tr>\n",
       "  </tbody>\n",
       "</table>\n",
       "</div>"
      ],
      "text/plain": [
       "                   Pearson Correlation  Mutual Information  one-way ANOVA  \\\n",
       "Power                                1                   1              3   \n",
       "Engine                               2                   2              4   \n",
       "Transmission                         3                   5              5   \n",
       "Mileage                              5                   3              7   \n",
       "Kilometers_Driven                    9                   8              1   \n",
       "Fuel_Type                            4                   6              8   \n",
       "Owner_Type                           7                   9              2   \n",
       "Year                                 6                   4              9   \n",
       "Seats                                8                   7              6   \n",
       "\n",
       "                   importance ranking  \n",
       "Power                               1  \n",
       "Engine                              2  \n",
       "Transmission                        3  \n",
       "Mileage                             4  \n",
       "Kilometers_Driven                   5  \n",
       "Fuel_Type                           6  \n",
       "Owner_Type                          7  \n",
       "Year                                8  \n",
       "Seats                               9  "
      ]
     },
     "execution_count": 37,
     "metadata": {},
     "output_type": "execute_result"
    }
   ],
   "source": [
    "ranking_dataframe(classif)"
   ]
  },
  {
   "cell_type": "markdown",
   "metadata": {},
   "source": [
    "# Multivariate Linear Regression"
   ]
  },
  {
   "cell_type": "code",
   "execution_count": 38,
   "metadata": {},
   "outputs": [],
   "source": [
    "import numpy\n",
    "\n",
    "def multivariate_linear_regression_coefficients(X,y):\n",
    "    n = X.shape[0]\n",
    "    one = np.ones((n,1))\n",
    "    X = np.hstack((one,X))\n",
    "    A = X.transpose()\n",
    "    D = linalg.inv(A.dot(X))\n",
    "    B = D.dot(A)\n",
    "    beta = B.dot(y)\n",
    "    return beta"
   ]
  },
  {
   "cell_type": "code",
   "execution_count": 39,
   "metadata": {},
   "outputs": [],
   "source": [
    "def MLR_prediction(X,beta):\n",
    "    n = X.shape[0]\n",
    "    one = np.ones((n,1))\n",
    "    X = np.hstack((one,X))\n",
    "    y_pred = X.dot(beta)\n",
    "    return y_pred"
   ]
  },
  {
   "cell_type": "code",
   "execution_count": 40,
   "metadata": {},
   "outputs": [],
   "source": [
    "def Mean_square_error(y_pred,y_truth):\n",
    "    n = y_pred.shape[0]\n",
    "    MSE = (1/n)*np.sum((y_pred-y_truth)**2)\n",
    "    return MSE"
   ]
  },
  {
   "cell_type": "code",
   "execution_count": 41,
   "metadata": {},
   "outputs": [],
   "source": [
    "def train_test_split_and_predict(X,y):\n",
    "    N = int(X.shape[0]*0.8)\n",
    "    train_set = X.iloc[:N,:]\n",
    "    train_label_set = y.iloc[:N]\n",
    "    test_set = X.iloc[N:,:]\n",
    "    test_label_set = y.iloc[N:]\n",
    "    \n",
    "    beta = multivariate_linear_regression_coefficients(train_set,train_label_set)\n",
    "    \n",
    "    y_pred = np.array(MLR_prediction(test_set,beta))\n",
    "    \n",
    "    MSE = Mean_square_error(y_pred,test_label_set)\n",
    "    \n",
    "    print ('Mean Square Error is ',MSE)"
   ]
  },
  {
   "cell_type": "code",
   "execution_count": 42,
   "metadata": {},
   "outputs": [
    {
     "data": {
      "text/plain": [
       "41.81957348763501"
      ]
     },
     "execution_count": 42,
     "metadata": {},
     "output_type": "execute_result"
    }
   ],
   "source": [
    "MLR_coeff = multivariate_linear_regression_coefficients(data,y)\n",
    "MLR_Prediction = MLR_prediction(data,MLR_coeff)\n",
    "Mean_square_error(y,MLR_Prediction)"
   ]
  },
  {
   "cell_type": "code",
   "execution_count": 43,
   "metadata": {},
   "outputs": [
    {
     "name": "stdout",
     "output_type": "stream",
     "text": [
      "Mean Square Error is  37.63868639934721\n"
     ]
    }
   ],
   "source": [
    "train_test_split_and_predict(data,y)"
   ]
  },
  {
   "cell_type": "markdown",
   "metadata": {},
   "source": [
    "# Simple Linear Regression"
   ]
  },
  {
   "cell_type": "code",
   "execution_count": 44,
   "metadata": {},
   "outputs": [],
   "source": [
    "def simple_linear_regression(x,y):\n",
    "    x_mean = np.mean(x)\n",
    "    y_mean = np.mean(y)\n",
    "    cov = sum((x[i]-x_mean)*(y[i]-y_mean) for i in range(len(x)))\n",
    "    var = sum((x[i]-x_mean)**2 for i in range(len(x)))\n",
    "    theta_1 = cov/var\n",
    "    theta_0 = y_mean - theta_1 * x_mean\n",
    "    z = theta_0 + theta_1 * x\n",
    "    return (theta_0, theta_1)"
   ]
  },
  {
   "cell_type": "code",
   "execution_count": 45,
   "metadata": {},
   "outputs": [],
   "source": [
    "def SLR_prediction(x,parameters):\n",
    "    theta_0 = parameters[0]\n",
    "    theta_1 = parameters[1]\n",
    "    return theta_0 + theta_1 * x"
   ]
  },
  {
   "cell_type": "code",
   "execution_count": 46,
   "metadata": {},
   "outputs": [],
   "source": [
    "def MSE_of_each_feature(X,y):\n",
    "    MSE_of_features = []\n",
    "    for i in range(X.shape[1]):\n",
    "        x = X.iloc[:,i]\n",
    "        parameters = simple_linear_regression(x,y)\n",
    "        y_pred = SLR_prediction(x,parameters)\n",
    "        mse = Mean_square_error(y,y_pred)\n",
    "        MSE_of_features.append(mse)\n",
    "    return MSE_of_features        "
   ]
  },
  {
   "cell_type": "code",
   "execution_count": 47,
   "metadata": {},
   "outputs": [],
   "source": [
    "MSE_of_each_feature = MSE_of_each_feature(data,y)"
   ]
  },
  {
   "cell_type": "code",
   "execution_count": 48,
   "metadata": {},
   "outputs": [
    {
     "name": "stdout",
     "output_type": "stream",
     "text": [
      "Power                 54.428636\n",
      "Engine                72.722804\n",
      "Transmission          82.169533\n",
      "Fuel_Type            112.597413\n",
      "Mileage              113.415600\n",
      "Year                 113.481728\n",
      "Owner_Type           123.957597\n",
      "Seats                124.799647\n",
      "Kilometers_Driven    125.132163\n",
      "Name: MSE_of_each_feature, dtype: float64\n"
     ]
    }
   ],
   "source": [
    "feature_importance = pd.Series(MSE_of_each_feature, name=\"MSE_of_each_feature\", index=data.columns)\n",
    "print(feature_importance.sort_values(ascending=True))"
   ]
  },
  {
   "cell_type": "markdown",
   "metadata": {},
   "source": [
    "# Verifying with sklearn methods"
   ]
  },
  {
   "cell_type": "code",
   "execution_count": 49,
   "metadata": {},
   "outputs": [
    {
     "data": {
      "text/html": [
       "<div>\n",
       "<style scoped>\n",
       "    .dataframe tbody tr th:only-of-type {\n",
       "        vertical-align: middle;\n",
       "    }\n",
       "\n",
       "    .dataframe tbody tr th {\n",
       "        vertical-align: top;\n",
       "    }\n",
       "\n",
       "    .dataframe thead th {\n",
       "        text-align: right;\n",
       "    }\n",
       "</style>\n",
       "<table border=\"1\" class=\"dataframe\">\n",
       "  <thead>\n",
       "    <tr style=\"text-align: right;\">\n",
       "      <th></th>\n",
       "      <th>Year</th>\n",
       "      <th>Kilometers_Driven</th>\n",
       "      <th>Fuel_Type</th>\n",
       "      <th>Transmission</th>\n",
       "      <th>Owner_Type</th>\n",
       "      <th>Mileage</th>\n",
       "      <th>Engine</th>\n",
       "      <th>Power</th>\n",
       "      <th>Seats</th>\n",
       "    </tr>\n",
       "  </thead>\n",
       "  <tbody>\n",
       "    <tr>\n",
       "      <th>0</th>\n",
       "      <td>0.571429</td>\n",
       "      <td>0.011051</td>\n",
       "      <td>0.25</td>\n",
       "      <td>0</td>\n",
       "      <td>0.0</td>\n",
       "      <td>0.793083</td>\n",
       "      <td>0.166389</td>\n",
       "      <td>0.103857</td>\n",
       "      <td>0.5</td>\n",
       "    </tr>\n",
       "    <tr>\n",
       "      <th>1</th>\n",
       "      <td>0.809524</td>\n",
       "      <td>0.006282</td>\n",
       "      <td>0.75</td>\n",
       "      <td>0</td>\n",
       "      <td>0.0</td>\n",
       "      <td>0.586464</td>\n",
       "      <td>0.263755</td>\n",
       "      <td>0.225357</td>\n",
       "      <td>0.5</td>\n",
       "    </tr>\n",
       "  </tbody>\n",
       "</table>\n",
       "</div>"
      ],
      "text/plain": [
       "       Year  Kilometers_Driven  Fuel_Type  Transmission  Owner_Type   Mileage  \\\n",
       "0  0.571429           0.011051       0.25             0         0.0  0.793083   \n",
       "1  0.809524           0.006282       0.75             0         0.0  0.586464   \n",
       "\n",
       "     Engine     Power  Seats  \n",
       "0  0.166389  0.103857    0.5  \n",
       "1  0.263755  0.225357    0.5  "
      ]
     },
     "execution_count": 49,
     "metadata": {},
     "output_type": "execute_result"
    }
   ],
   "source": [
    "data.head(2)"
   ]
  },
  {
   "cell_type": "code",
   "execution_count": 50,
   "metadata": {},
   "outputs": [
    {
     "data": {
      "text/plain": [
       "array([[0.10385714],\n",
       "       [0.22535714]])"
      ]
     },
     "execution_count": 50,
     "metadata": {},
     "output_type": "execute_result"
    }
   ],
   "source": [
    "from sklearn.feature_selection import SelectKBest\n",
    "SelectKBest(k=1).fit_transform(data, y)[:2]"
   ]
  },
  {
   "cell_type": "code",
   "execution_count": 51,
   "metadata": {},
   "outputs": [
    {
     "data": {
      "text/plain": [
       "array([[0.1663888 , 0.10385714],\n",
       "       [0.26375458, 0.22535714]])"
      ]
     },
     "execution_count": 51,
     "metadata": {},
     "output_type": "execute_result"
    }
   ],
   "source": [
    "SelectKBest(k=2).fit_transform(data, y)[:2]"
   ]
  },
  {
   "cell_type": "code",
   "execution_count": 52,
   "metadata": {},
   "outputs": [
    {
     "data": {
      "text/plain": [
       "array([[0.57142857, 0.        , 0.1663888 , 0.10385714],\n",
       "       [0.80952381, 0.        , 0.26375458, 0.22535714]])"
      ]
     },
     "execution_count": 52,
     "metadata": {},
     "output_type": "execute_result"
    }
   ],
   "source": [
    "SelectKBest(k=4).fit_transform(data, y)[:2]"
   ]
  },
  {
   "cell_type": "code",
   "execution_count": 53,
   "metadata": {},
   "outputs": [],
   "source": [
    "def best_features(X,y):\n",
    "    best = []\n",
    "    for i in range(1,X.shape[1]+1):\n",
    "        b = SelectKBest(k=i).fit_transform(data, y)[:10]\n",
    "        for j in range(X.shape[1]):\n",
    "            for k in range(i):\n",
    "                if ((b[:,k][1] == X.head(2).iloc[:,j][1]) and (b[:,k][9] == X.head(10).iloc[:,j][9])) and (X.columns[j] not in best) :\n",
    "                    best.append(X.columns[j])\n",
    "        print('best',i,'features are: ',best)    "
   ]
  },
  {
   "cell_type": "code",
   "execution_count": 54,
   "metadata": {},
   "outputs": [
    {
     "name": "stdout",
     "output_type": "stream",
     "text": [
      "best 1 features are:  ['Power']\n",
      "best 2 features are:  ['Power', 'Engine']\n",
      "best 3 features are:  ['Power', 'Engine', 'Transmission']\n",
      "best 4 features are:  ['Power', 'Engine', 'Transmission', 'Year']\n",
      "best 5 features are:  ['Power', 'Engine', 'Transmission', 'Year', 'Fuel_Type']\n",
      "best 6 features are:  ['Power', 'Engine', 'Transmission', 'Year', 'Fuel_Type', 'Mileage']\n",
      "best 7 features are:  ['Power', 'Engine', 'Transmission', 'Year', 'Fuel_Type', 'Mileage', 'Seats']\n",
      "best 8 features are:  ['Power', 'Engine', 'Transmission', 'Year', 'Fuel_Type', 'Mileage', 'Seats', 'Kilometers_Driven']\n",
      "best 9 features are:  ['Power', 'Engine', 'Transmission', 'Year', 'Fuel_Type', 'Mileage', 'Seats', 'Kilometers_Driven', 'Owner_Type']\n"
     ]
    }
   ],
   "source": [
    "best_features(data,y)"
   ]
  },
  {
   "cell_type": "markdown",
   "metadata": {},
   "source": [
    "# Principal Components analysis"
   ]
  },
  {
   "cell_type": "code",
   "execution_count": 55,
   "metadata": {},
   "outputs": [],
   "source": [
    "def principal_components(X):\n",
    "    x_bar = np.mean(data,axis = 0)\n",
    "    x_std = np.std(data,axis = 0)\n",
    "    X = (data - x_bar)/x_std\n",
    "    correlation_matrix = X.corr()\n",
    "    \n",
    "    eig_values, eig_vectors = linalg.eig(correlation_matrix)\n",
    "\n",
    "    indices = []\n",
    "    copy = np.copy(eig_values)\n",
    "    \n",
    "    for i in range(9):\n",
    "        ind = copy.argmax()\n",
    "        indices.append(ind)\n",
    "        copy[ind]=0   \n",
    "    \n",
    "    v = eig_vectors.T[indices] \n",
    "    eig_vectors = v.T\n",
    "    \n",
    "    X_pca = pd.DataFrame()\n",
    "    for i in range(9):\n",
    "        h = -eig_vectors[:,i]\n",
    "        pc = np.dot(X,h)\n",
    "        title = 'PC'+str(i+1)\n",
    "        X_pca[title] = pc\n",
    "        \n",
    "    return X_pca    "
   ]
  },
  {
   "cell_type": "code",
   "execution_count": 56,
   "metadata": {},
   "outputs": [
    {
     "data": {
      "text/html": [
       "<div>\n",
       "<style scoped>\n",
       "    .dataframe tbody tr th:only-of-type {\n",
       "        vertical-align: middle;\n",
       "    }\n",
       "\n",
       "    .dataframe tbody tr th {\n",
       "        vertical-align: top;\n",
       "    }\n",
       "\n",
       "    .dataframe thead th {\n",
       "        text-align: right;\n",
       "    }\n",
       "</style>\n",
       "<table border=\"1\" class=\"dataframe\">\n",
       "  <thead>\n",
       "    <tr style=\"text-align: right;\">\n",
       "      <th></th>\n",
       "      <th>PC1</th>\n",
       "      <th>PC2</th>\n",
       "      <th>PC3</th>\n",
       "      <th>PC4</th>\n",
       "      <th>PC5</th>\n",
       "      <th>PC6</th>\n",
       "      <th>PC7</th>\n",
       "      <th>PC8</th>\n",
       "      <th>PC9</th>\n",
       "    </tr>\n",
       "  </thead>\n",
       "  <tbody>\n",
       "    <tr>\n",
       "      <th>0</th>\n",
       "      <td>-2.795670</td>\n",
       "      <td>-0.759913</td>\n",
       "      <td>-0.933044</td>\n",
       "      <td>-0.095366</td>\n",
       "      <td>1.062462</td>\n",
       "      <td>-0.077446</td>\n",
       "      <td>-0.411214</td>\n",
       "      <td>-2.154209</td>\n",
       "      <td>-0.385762</td>\n",
       "    </tr>\n",
       "    <tr>\n",
       "      <th>1</th>\n",
       "      <td>-0.150693</td>\n",
       "      <td>0.916662</td>\n",
       "      <td>0.462525</td>\n",
       "      <td>0.222619</td>\n",
       "      <td>-0.355876</td>\n",
       "      <td>0.438995</td>\n",
       "      <td>-0.536386</td>\n",
       "      <td>0.473210</td>\n",
       "      <td>0.256170</td>\n",
       "    </tr>\n",
       "    <tr>\n",
       "      <th>2</th>\n",
       "      <td>-1.171737</td>\n",
       "      <td>-0.578518</td>\n",
       "      <td>-0.436430</td>\n",
       "      <td>-0.380683</td>\n",
       "      <td>0.615265</td>\n",
       "      <td>0.518792</td>\n",
       "      <td>-0.227197</td>\n",
       "      <td>-0.252012</td>\n",
       "      <td>0.167242</td>\n",
       "    </tr>\n",
       "    <tr>\n",
       "      <th>3</th>\n",
       "      <td>-0.250015</td>\n",
       "      <td>0.045837</td>\n",
       "      <td>2.275026</td>\n",
       "      <td>-0.581288</td>\n",
       "      <td>0.027668</td>\n",
       "      <td>0.255257</td>\n",
       "      <td>0.685706</td>\n",
       "      <td>-0.769120</td>\n",
       "      <td>0.622562</td>\n",
       "    </tr>\n",
       "    <tr>\n",
       "      <th>4</th>\n",
       "      <td>1.684301</td>\n",
       "      <td>-0.623266</td>\n",
       "      <td>-0.746340</td>\n",
       "      <td>0.662708</td>\n",
       "      <td>-1.492556</td>\n",
       "      <td>-0.569588</td>\n",
       "      <td>0.755381</td>\n",
       "      <td>0.480042</td>\n",
       "      <td>-0.086046</td>\n",
       "    </tr>\n",
       "    <tr>\n",
       "      <th>...</th>\n",
       "      <td>...</td>\n",
       "      <td>...</td>\n",
       "      <td>...</td>\n",
       "      <td>...</td>\n",
       "      <td>...</td>\n",
       "      <td>...</td>\n",
       "      <td>...</td>\n",
       "      <td>...</td>\n",
       "      <td>...</td>\n",
       "    </tr>\n",
       "    <tr>\n",
       "      <th>6014</th>\n",
       "      <td>-1.661961</td>\n",
       "      <td>1.277698</td>\n",
       "      <td>0.824558</td>\n",
       "      <td>0.714644</td>\n",
       "      <td>-1.031142</td>\n",
       "      <td>0.616336</td>\n",
       "      <td>-0.090529</td>\n",
       "      <td>-0.643000</td>\n",
       "      <td>-0.164299</td>\n",
       "    </tr>\n",
       "    <tr>\n",
       "      <th>6015</th>\n",
       "      <td>-1.426714</td>\n",
       "      <td>0.965001</td>\n",
       "      <td>0.983438</td>\n",
       "      <td>0.948021</td>\n",
       "      <td>-0.302401</td>\n",
       "      <td>0.247282</td>\n",
       "      <td>0.077289</td>\n",
       "      <td>0.100052</td>\n",
       "      <td>0.062902</td>\n",
       "    </tr>\n",
       "    <tr>\n",
       "      <th>6016</th>\n",
       "      <td>2.020932</td>\n",
       "      <td>-1.518837</td>\n",
       "      <td>2.675724</td>\n",
       "      <td>-1.702898</td>\n",
       "      <td>-0.974821</td>\n",
       "      <td>-1.057552</td>\n",
       "      <td>0.119269</td>\n",
       "      <td>-0.404896</td>\n",
       "      <td>-0.254450</td>\n",
       "    </tr>\n",
       "    <tr>\n",
       "      <th>6017</th>\n",
       "      <td>-1.627725</td>\n",
       "      <td>-0.186796</td>\n",
       "      <td>-0.342423</td>\n",
       "      <td>-0.383006</td>\n",
       "      <td>0.618024</td>\n",
       "      <td>0.098347</td>\n",
       "      <td>-0.006400</td>\n",
       "      <td>-0.015261</td>\n",
       "      <td>0.118352</td>\n",
       "    </tr>\n",
       "    <tr>\n",
       "      <th>6018</th>\n",
       "      <td>-1.808567</td>\n",
       "      <td>0.350430</td>\n",
       "      <td>0.810960</td>\n",
       "      <td>0.654890</td>\n",
       "      <td>-0.745706</td>\n",
       "      <td>1.158858</td>\n",
       "      <td>0.390040</td>\n",
       "      <td>-0.409631</td>\n",
       "      <td>0.156246</td>\n",
       "    </tr>\n",
       "  </tbody>\n",
       "</table>\n",
       "<p>6019 rows × 9 columns</p>\n",
       "</div>"
      ],
      "text/plain": [
       "           PC1       PC2       PC3       PC4       PC5       PC6       PC7  \\\n",
       "0    -2.795670 -0.759913 -0.933044 -0.095366  1.062462 -0.077446 -0.411214   \n",
       "1    -0.150693  0.916662  0.462525  0.222619 -0.355876  0.438995 -0.536386   \n",
       "2    -1.171737 -0.578518 -0.436430 -0.380683  0.615265  0.518792 -0.227197   \n",
       "3    -0.250015  0.045837  2.275026 -0.581288  0.027668  0.255257  0.685706   \n",
       "4     1.684301 -0.623266 -0.746340  0.662708 -1.492556 -0.569588  0.755381   \n",
       "...        ...       ...       ...       ...       ...       ...       ...   \n",
       "6014 -1.661961  1.277698  0.824558  0.714644 -1.031142  0.616336 -0.090529   \n",
       "6015 -1.426714  0.965001  0.983438  0.948021 -0.302401  0.247282  0.077289   \n",
       "6016  2.020932 -1.518837  2.675724 -1.702898 -0.974821 -1.057552  0.119269   \n",
       "6017 -1.627725 -0.186796 -0.342423 -0.383006  0.618024  0.098347 -0.006400   \n",
       "6018 -1.808567  0.350430  0.810960  0.654890 -0.745706  1.158858  0.390040   \n",
       "\n",
       "           PC8       PC9  \n",
       "0    -2.154209 -0.385762  \n",
       "1     0.473210  0.256170  \n",
       "2    -0.252012  0.167242  \n",
       "3    -0.769120  0.622562  \n",
       "4     0.480042 -0.086046  \n",
       "...        ...       ...  \n",
       "6014 -0.643000 -0.164299  \n",
       "6015  0.100052  0.062902  \n",
       "6016 -0.404896 -0.254450  \n",
       "6017 -0.015261  0.118352  \n",
       "6018 -0.409631  0.156246  \n",
       "\n",
       "[6019 rows x 9 columns]"
      ]
     },
     "execution_count": 56,
     "metadata": {},
     "output_type": "execute_result"
    }
   ],
   "source": [
    "X_pca = principal_components(data)\n",
    "X_pca"
   ]
  },
  {
   "cell_type": "markdown",
   "metadata": {},
   "source": [
    "# Comparison of the variances of the two dataframes"
   ]
  },
  {
   "cell_type": "code",
   "execution_count": 57,
   "metadata": {},
   "outputs": [
    {
     "data": {
      "text/plain": [
       "(0, 0.03)"
      ]
     },
     "execution_count": 57,
     "metadata": {},
     "output_type": "execute_result"
    },
    {
     "data": {
      "text/plain": [
       "<Figure size 1080x360 with 0 Axes>"
      ]
     },
     "metadata": {},
     "output_type": "display_data"
    },
    {
     "data": {
      "image/png": "[encoded data removed]",
      "text/plain": [
       "<Figure size 1152x720 with 2 Axes>"
      ]
     },
     "metadata": {
      "needs_background": "light"
     },
     "output_type": "display_data"
    }
   ],
   "source": [
    "plt.figure(figsize=(15,5))\n",
    "\n",
    "columns = data.columns\n",
    "variances = [np.var(data[i]) for i in columns ]\n",
    "\n",
    "plt.figure(figsize=(16,10))\n",
    "\n",
    "ax1 = plt.subplot(211)\n",
    "ax1.bar(columns,variances)\n",
    "\n",
    "\n",
    "ax2 = plt.subplot(212)\n",
    "ax2.bar(columns,variances)\n",
    "plt.ylim(0,0.03)"
   ]
  },
  {
   "cell_type": "code",
   "execution_count": 58,
   "metadata": {},
   "outputs": [
    {
     "data": {
      "text/plain": [
       "<BarContainer object of 9 artists>"
      ]
     },
     "execution_count": 58,
     "metadata": {},
     "output_type": "execute_result"
    },
    {
     "data": {
      "image/png": "[encoded data removed]",
      "text/plain": [
       "<Figure size 1080x360 with 1 Axes>"
      ]
     },
     "metadata": {
      "needs_background": "light"
     },
     "output_type": "display_data"
    }
   ],
   "source": [
    "plt.figure(figsize=(15,5))\n",
    "\n",
    "columns = X_pca.columns\n",
    "variances = [np.var(X_pca[i]) for i in columns]\n",
    "\n",
    "plt.bar(columns,variances)"
   ]
  },
  {
   "cell_type": "code",
   "execution_count": 59,
   "metadata": {},
   "outputs": [],
   "source": [
    "def MSE_of_each_feature(X,y):\n",
    "    MSE_of_features = []\n",
    "    for i in range(X.shape[1]):\n",
    "        x = X.iloc[:,i]\n",
    "        parameters = simple_linear_regression(x,y)\n",
    "        y_pred = SLR_prediction(x,parameters)\n",
    "        mse = Mean_square_error(y,y_pred)\n",
    "        MSE_of_features.append(mse)\n",
    "    return MSE_of_features  "
   ]
  },
  {
   "cell_type": "code",
   "execution_count": 60,
   "metadata": {},
   "outputs": [
    {
     "name": "stdout",
     "output_type": "stream",
     "text": [
      "PC1     65.612915\n",
      "PC2    111.363592\n",
      "PC3    120.728594\n",
      "PC4    123.511266\n",
      "PC7    123.619835\n",
      "PC6    123.878698\n",
      "PC8    124.456086\n",
      "PC9    124.720852\n",
      "PC5    125.117283\n",
      "Name: Mean_Square_Error_of_each_component, dtype: float64\n"
     ]
    }
   ],
   "source": [
    "MSE_of_each_component = MSE_of_each_feature(X_pca,y)\n",
    "feature_importance = pd.Series(MSE_of_each_component, name=\"Mean_Square_Error_of_each_component\", index=X_pca.columns)\n",
    "print(feature_importance.sort_values(ascending=True))"
   ]
  },
  {
   "cell_type": "markdown",
   "metadata": {},
   "source": [
    "# Adding new features to improve the prediction"
   ]
  },
  {
   "cell_type": "code",
   "execution_count": 61,
   "metadata": {},
   "outputs": [],
   "source": [
    "def loadings(X):\n",
    "    x_bar = np.mean(data,axis = 0)\n",
    "    x_std = np.std(data,axis = 0)\n",
    "    X = (data - x_bar)/x_std\n",
    "    correlation_matrix = X.corr()\n",
    "    \n",
    "    eig_values, eig_vectors = linalg.eig(correlation_matrix)\n",
    "\n",
    "    indices = []\n",
    "    copy = np.copy(eig_values)\n",
    "    \n",
    "    for i in range(9):\n",
    "        ind = copy.argmax()\n",
    "        indices.append(ind)\n",
    "        copy[ind]=0   \n",
    "    \n",
    "    v = eig_vectors.T[indices] \n",
    "    eig_vectors = -v.T\n",
    "    \n",
    "    loadings = pd.DataFrame(eig_vectors)\n",
    "    loadings.columns = ['PC'+str(i) for i in range(1,10)]\n",
    "    loadings.index = data.columns\n",
    "    \n",
    "    return loadings"
   ]
  },
  {
   "cell_type": "code",
   "execution_count": 62,
   "metadata": {},
   "outputs": [
    {
     "data": {
      "text/html": [
       "<div>\n",
       "<style scoped>\n",
       "    .dataframe tbody tr th:only-of-type {\n",
       "        vertical-align: middle;\n",
       "    }\n",
       "\n",
       "    .dataframe tbody tr th {\n",
       "        vertical-align: top;\n",
       "    }\n",
       "\n",
       "    .dataframe thead th {\n",
       "        text-align: right;\n",
       "    }\n",
       "</style>\n",
       "<table border=\"1\" class=\"dataframe\">\n",
       "  <thead>\n",
       "    <tr style=\"text-align: right;\">\n",
       "      <th></th>\n",
       "      <th>PC1</th>\n",
       "      <th>PC2</th>\n",
       "      <th>PC3</th>\n",
       "      <th>PC4</th>\n",
       "      <th>PC5</th>\n",
       "      <th>PC6</th>\n",
       "      <th>PC7</th>\n",
       "      <th>PC8</th>\n",
       "      <th>PC9</th>\n",
       "    </tr>\n",
       "  </thead>\n",
       "  <tbody>\n",
       "    <tr>\n",
       "      <th>Year</th>\n",
       "      <td>-0.027803</td>\n",
       "      <td>0.651518</td>\n",
       "      <td>0.025822</td>\n",
       "      <td>-0.038058</td>\n",
       "      <td>0.058484</td>\n",
       "      <td>-0.658152</td>\n",
       "      <td>-0.096830</td>\n",
       "      <td>0.352870</td>\n",
       "      <td>-0.046464</td>\n",
       "    </tr>\n",
       "    <tr>\n",
       "      <th>Kilometers_Driven</th>\n",
       "      <td>0.067990</td>\n",
       "      <td>-0.246540</td>\n",
       "      <td>0.347906</td>\n",
       "      <td>0.693442</td>\n",
       "      <td>0.534456</td>\n",
       "      <td>-0.215849</td>\n",
       "      <td>-0.000099</td>\n",
       "      <td>0.019781</td>\n",
       "      <td>0.008292</td>\n",
       "    </tr>\n",
       "    <tr>\n",
       "      <th>Fuel_Type</th>\n",
       "      <td>0.258440</td>\n",
       "      <td>0.246948</td>\n",
       "      <td>0.494129</td>\n",
       "      <td>0.274261</td>\n",
       "      <td>-0.465450</td>\n",
       "      <td>0.364262</td>\n",
       "      <td>0.201011</td>\n",
       "      <td>0.385422</td>\n",
       "      <td>0.120652</td>\n",
       "    </tr>\n",
       "    <tr>\n",
       "      <th>Transmission</th>\n",
       "      <td>0.390967</td>\n",
       "      <td>0.146936</td>\n",
       "      <td>-0.435677</td>\n",
       "      <td>0.217598</td>\n",
       "      <td>-0.018701</td>\n",
       "      <td>-0.117372</td>\n",
       "      <td>0.721925</td>\n",
       "      <td>-0.214074</td>\n",
       "      <td>-0.085219</td>\n",
       "    </tr>\n",
       "    <tr>\n",
       "      <th>Owner_Type</th>\n",
       "      <td>0.044353</td>\n",
       "      <td>-0.537973</td>\n",
       "      <td>-0.035013</td>\n",
       "      <td>0.124964</td>\n",
       "      <td>-0.617613</td>\n",
       "      <td>-0.549055</td>\n",
       "      <td>-0.056859</td>\n",
       "      <td>0.074954</td>\n",
       "      <td>-0.004231</td>\n",
       "    </tr>\n",
       "    <tr>\n",
       "      <th>Mileage</th>\n",
       "      <td>-0.382380</td>\n",
       "      <td>0.348411</td>\n",
       "      <td>0.141855</td>\n",
       "      <td>0.353686</td>\n",
       "      <td>-0.322141</td>\n",
       "      <td>-0.017840</td>\n",
       "      <td>-0.111265</td>\n",
       "      <td>-0.673371</td>\n",
       "      <td>-0.131442</td>\n",
       "    </tr>\n",
       "    <tr>\n",
       "      <th>Engine</th>\n",
       "      <td>0.553725</td>\n",
       "      <td>0.024489</td>\n",
       "      <td>0.062647</td>\n",
       "      <td>-0.034877</td>\n",
       "      <td>-0.016518</td>\n",
       "      <td>0.057480</td>\n",
       "      <td>-0.363258</td>\n",
       "      <td>-0.096677</td>\n",
       "      <td>-0.736729</td>\n",
       "    </tr>\n",
       "    <tr>\n",
       "      <th>Power</th>\n",
       "      <td>0.515381</td>\n",
       "      <td>0.134404</td>\n",
       "      <td>-0.199852</td>\n",
       "      <td>0.114992</td>\n",
       "      <td>-0.027607</td>\n",
       "      <td>-0.009697</td>\n",
       "      <td>-0.460460</td>\n",
       "      <td>-0.237762</td>\n",
       "      <td>0.627490</td>\n",
       "    </tr>\n",
       "    <tr>\n",
       "      <th>Seats</th>\n",
       "      <td>0.233555</td>\n",
       "      <td>-0.051959</td>\n",
       "      <td>0.615713</td>\n",
       "      <td>-0.489869</td>\n",
       "      <td>0.087677</td>\n",
       "      <td>-0.261926</td>\n",
       "      <td>0.263533</td>\n",
       "      <td>-0.394703</td>\n",
       "      <td>0.148813</td>\n",
       "    </tr>\n",
       "  </tbody>\n",
       "</table>\n",
       "</div>"
      ],
      "text/plain": [
       "                        PC1       PC2       PC3       PC4       PC5       PC6  \\\n",
       "Year              -0.027803  0.651518  0.025822 -0.038058  0.058484 -0.658152   \n",
       "Kilometers_Driven  0.067990 -0.246540  0.347906  0.693442  0.534456 -0.215849   \n",
       "Fuel_Type          0.258440  0.246948  0.494129  0.274261 -0.465450  0.364262   \n",
       "Transmission       0.390967  0.146936 -0.435677  0.217598 -0.018701 -0.117372   \n",
       "Owner_Type         0.044353 -0.537973 -0.035013  0.124964 -0.617613 -0.549055   \n",
       "Mileage           -0.382380  0.348411  0.141855  0.353686 -0.322141 -0.017840   \n",
       "Engine             0.553725  0.024489  0.062647 -0.034877 -0.016518  0.057480   \n",
       "Power              0.515381  0.134404 -0.199852  0.114992 -0.027607 -0.009697   \n",
       "Seats              0.233555 -0.051959  0.615713 -0.489869  0.087677 -0.261926   \n",
       "\n",
       "                        PC7       PC8       PC9  \n",
       "Year              -0.096830  0.352870 -0.046464  \n",
       "Kilometers_Driven -0.000099  0.019781  0.008292  \n",
       "Fuel_Type          0.201011  0.385422  0.120652  \n",
       "Transmission       0.721925 -0.214074 -0.085219  \n",
       "Owner_Type        -0.056859  0.074954 -0.004231  \n",
       "Mileage           -0.111265 -0.673371 -0.131442  \n",
       "Engine            -0.363258 -0.096677 -0.736729  \n",
       "Power             -0.460460 -0.237762  0.627490  \n",
       "Seats              0.263533 -0.394703  0.148813  "
      ]
     },
     "execution_count": 62,
     "metadata": {},
     "output_type": "execute_result"
    }
   ],
   "source": [
    "loadings(data)"
   ]
  },
  {
   "cell_type": "code",
   "execution_count": 63,
   "metadata": {
    "scrolled": false
   },
   "outputs": [
    {
     "data": {
      "image/png": "[encoded data removed]",
      "text/plain": [
       "<Figure size 1152x720 with 6 Axes>"
      ]
     },
     "metadata": {
      "needs_background": "light"
     },
     "output_type": "display_data"
    }
   ],
   "source": [
    "plt.figure(figsize=(16,10))\n",
    "\n",
    "ax1 = plt.subplot(231)\n",
    "ax1 = sns.scatterplot(original_data['Engine'],original_data['Power'])\n",
    "\n",
    "ax2 = plt.subplot(232)\n",
    "ax2 = sns.scatterplot(original_data['Engine'],original_data['Mileage'])\n",
    "\n",
    "ax3 = plt.subplot(233)\n",
    "ax3 = sns.scatterplot(original_data['Transmission'],original_data['Mileage'])\n",
    "\n",
    "ax4 = plt.subplot(234)\n",
    "sns.scatterplot(original_data['Owner_Type'],original_data['Kilometers_Driven'])\n",
    "plt.ylim(0, 1000000)\n",
    "\n",
    "ax5 = plt.subplot(235)\n",
    "ax5 = sns.scatterplot(original_data['Fuel_Type'],original_data['Power'])\n",
    "\n",
    "ax5 = plt.subplot(236)\n",
    "ax5 = sns.scatterplot(original_data['Transmission'],original_data['Year'])"
   ]
  },
  {
   "cell_type": "code",
   "execution_count": 64,
   "metadata": {},
   "outputs": [
    {
     "name": "stdout",
     "output_type": "stream",
     "text": [
      "Mean Square Error is  37.63868639934753\n"
     ]
    }
   ],
   "source": [
    "train_test_split_and_predict(X_pca,y)"
   ]
  },
  {
   "cell_type": "code",
   "execution_count": 65,
   "metadata": {},
   "outputs": [
    {
     "name": "stdout",
     "output_type": "stream",
     "text": [
      "Mean Square Error is  37.63868639934721\n"
     ]
    }
   ],
   "source": [
    "train_test_split_and_predict(data,y)"
   ]
  },
  {
   "cell_type": "code",
   "execution_count": 66,
   "metadata": {},
   "outputs": [
    {
     "name": "stdout",
     "output_type": "stream",
     "text": [
      "Mean Square Error is  33.209276620109016\n"
     ]
    }
   ],
   "source": [
    "X1 = data.copy()\n",
    "X1[\"Feature1\"] = X1.Power * X1.Engine\n",
    "train_test_split_and_predict(X1,y)"
   ]
  },
  {
   "cell_type": "code",
   "execution_count": 67,
   "metadata": {},
   "outputs": [
    {
     "name": "stdout",
     "output_type": "stream",
     "text": [
      "Mean Square Error is  30.732571039509246\n"
     ]
    }
   ],
   "source": [
    "X2 = data.copy()\n",
    "X2[\"Feature1\"] = X2.Power * X2.Engine\n",
    "X2[\"Feature2\"] = X2.Power / (0.1+X2.Kilometers_Driven)\n",
    "X2[\"Feature3\"] = X2.Engine / (0.1+X2.Mileage)\n",
    "train_test_split_and_predict(X2,y)"
   ]
  },
  {
   "cell_type": "code",
   "execution_count": 68,
   "metadata": {},
   "outputs": [
    {
     "name": "stdout",
     "output_type": "stream",
     "text": [
      "Mean Square Error is  29.942499215748928\n"
     ]
    }
   ],
   "source": [
    "X3 = data.copy()\n",
    "X3[\"Feature1\"] = X3.Power * X3.Engine\n",
    "X3[\"Feature2\"] = X3.Power / (0.1+X3.Kilometers_Driven)\n",
    "X3[\"Feature3\"] = X3.Engine / (0.1+X3.Mileage)\n",
    "X3[\"Feature4\"] = X3.Kilometers_Driven / (0.1+X3.Year)\n",
    "train_test_split_and_predict(X3,y)"
   ]
  }
 ],
 "metadata": {
  "kernelspec": {
   "display_name": "Python 3",
   "language": "python",
   "name": "python3"
  },
  "language_info": {
   "codemirror_mode": {
    "name": "ipython",
    "version": 3
   },
   "file_extension": ".py",
   "mimetype": "text/x-python",
   "name": "python",
   "nbconvert_exporter": "python",
   "pygments_lexer": "ipython3",
   "version": "3.7.6"
  }
 },
 "nbformat": 4,
 "nbformat_minor": 4
}
